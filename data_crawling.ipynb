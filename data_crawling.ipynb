{
 "cells": [
  {
   "cell_type": "code",
   "execution_count": 1,
   "metadata": {},
   "outputs": [],
   "source": [
    "import pandas as pd\n",
    "import numpy as np\n",
    "from urllib.request import urlopen\n",
    "from bs4 import BeautifulSoup"
   ]
  },
  {
   "cell_type": "code",
   "execution_count": 24,
   "metadata": {},
   "outputs": [],
   "source": [
    "def craw_data(year):\n",
    "    url = \"https://www.basketball-reference.com/leagues/NBA_{}_per_game.html\".format(year)# this is the HTML from the given URL\n",
    "    html = urlopen(url)\n",
    "    soup = BeautifulSoup(html)\n",
    "    \n",
    "    #get headers column name\n",
    "    col_name = [th.string for th in soup.find_all('tr', limit=1)[0].find_all('th')][1:]\n",
    "    col_name.append('year')\n",
    "    \n",
    "    #get players data\n",
    "    rows = soup.find_all('tr')[1:]\n",
    "    player_data = []\n",
    "    for row in rows:\n",
    "        data = []\n",
    "        for td in row.find_all('td'):\n",
    "            data.append(td.string)\n",
    "            \n",
    "        data.append(year)\n",
    "        player_data.append(data)\n",
    "        \n",
    "    stats = pd.DataFrame(data = player_data, columns = col_name)\n",
    "    \n",
    "    return stats"
   ]
  },
  {
   "cell_type": "code",
   "execution_count": 25,
   "metadata": {},
   "outputs": [],
   "source": [
    "years = [year for year in range(1997, 2020)]\n",
    "\n",
    "for year in years:\n",
    "    data = craw_data(year)\n",
    "    data.to_csv('nba_stats_{}.csv'.format(year), index=True)"
   ]
  },
  {
   "cell_type": "code",
   "execution_count": 26,
   "metadata": {},
   "outputs": [
    {
     "data": {
      "text/plain": [
       "[1997,\n",
       " 1998,\n",
       " 1999,\n",
       " 2000,\n",
       " 2001,\n",
       " 2002,\n",
       " 2003,\n",
       " 2004,\n",
       " 2005,\n",
       " 2006,\n",
       " 2007,\n",
       " 2008,\n",
       " 2009,\n",
       " 2010,\n",
       " 2011,\n",
       " 2012,\n",
       " 2013,\n",
       " 2014,\n",
       " 2015,\n",
       " 2016,\n",
       " 2017,\n",
       " 2018,\n",
       " 2019]"
      ]
     },
     "execution_count": 26,
     "metadata": {},
     "output_type": "execute_result"
    }
   ],
   "source": [
    "years"
   ]
  },
  {
   "cell_type": "code",
   "execution_count": null,
   "metadata": {},
   "outputs": [],
   "source": []
  }
 ],
 "metadata": {
  "kernelspec": {
   "display_name": "Python 3",
   "language": "python",
   "name": "python3"
  },
  "language_info": {
   "codemirror_mode": {
    "name": "ipython",
    "version": 3
   },
   "file_extension": ".py",
   "mimetype": "text/x-python",
   "name": "python",
   "nbconvert_exporter": "python",
   "pygments_lexer": "ipython3",
   "version": "3.7.6"
  }
 },
 "nbformat": 4,
 "nbformat_minor": 4
}
