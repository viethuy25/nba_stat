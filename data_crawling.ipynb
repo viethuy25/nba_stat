{
 "cells": [
  {
   "cell_type": "code",
   "execution_count": 1,
   "metadata": {},
   "outputs": [],
   "source": [
    "import pandas as pd\n",
    "import numpy as np\n",
    "from urllib.request import Request, urlopen\n",
    "from bs4 import BeautifulSoup\n",
    "\n",
    "import requests\n",
    "import json"
   ]
  },
  {
   "cell_type": "markdown",
   "metadata": {},
   "source": [
    "## Crawl data from NBA Reference"
   ]
  },
  {
   "cell_type": "code",
   "execution_count": 24,
   "metadata": {},
   "outputs": [],
   "source": [
    "def craw_data(year):\n",
    "    url = \"https://www.basketball-reference.com/leagues/NBA_{}_per_game.html\".format(year)# this is the HTML from the given URL\n",
    "    html = urlopen(url)\n",
    "    soup = BeautifulSoup(html)\n",
    "    \n",
    "    #get headers column name\n",
    "    col_name = [th.string for th in soup.find_all('tr', limit=1)[0].find_all('th')][1:]\n",
    "    col_name.append('year')\n",
    "    \n",
    "    #get players data\n",
    "    rows = soup.find_all('tr')[1:]\n",
    "    player_data = []\n",
    "    for row in rows:\n",
    "        data = []\n",
    "        for td in row.find_all('td'):\n",
    "            data.append(td.string)\n",
    "            \n",
    "        data.append(year)\n",
    "        player_data.append(data)\n",
    "        \n",
    "    stats = pd.DataFrame(data = player_data, columns = col_name)\n",
    "    \n",
    "    return stats"
   ]
  },
  {
   "cell_type": "code",
   "execution_count": 25,
   "metadata": {},
   "outputs": [],
   "source": [
    "years = [year for year in range(1997, 2020)]\n",
    "\n",
    "for year in years:\n",
    "    data = craw_data(year)\n",
    "    data.to_csv('nba_stats_{}.csv'.format(year), index=True)"
   ]
  },
  {
   "cell_type": "code",
   "execution_count": 26,
   "metadata": {},
   "outputs": [
    {
     "data": {
      "text/plain": [
       "[1997,\n",
       " 1998,\n",
       " 1999,\n",
       " 2000,\n",
       " 2001,\n",
       " 2002,\n",
       " 2003,\n",
       " 2004,\n",
       " 2005,\n",
       " 2006,\n",
       " 2007,\n",
       " 2008,\n",
       " 2009,\n",
       " 2010,\n",
       " 2011,\n",
       " 2012,\n",
       " 2013,\n",
       " 2014,\n",
       " 2015,\n",
       " 2016,\n",
       " 2017,\n",
       " 2018,\n",
       " 2019]"
      ]
     },
     "execution_count": 26,
     "metadata": {},
     "output_type": "execute_result"
    }
   ],
   "source": [
    "years"
   ]
  },
  {
   "cell_type": "markdown",
   "metadata": {},
   "source": [
    "## Take data from NBA official website"
   ]
  },
  {
   "cell_type": "code",
   "execution_count": 10,
   "metadata": {},
   "outputs": [],
   "source": [
    "from nba_api.stats.endpoints import leaguedashplayerstats\n",
    "\n",
    "def craw_data_nba(year):\n",
    "    print (type(str(year)))\n",
    "    print(year)\n",
    "    my_header = {\n",
    "        'Host': 'stats.nba.com',\n",
    "        'Connection': 'keep-alive',\n",
    "        'Cache-Control': 'max-age=0',\n",
    "        'DNT': '1',\n",
    "        'User-Agent': 'Mozilla/5.0 (Windows NT 10.0; Win64; x64; rv:81.0) Gecko/20100101 Firefox/81.0',\n",
    "        'Accept': 'application/json, text/plain, */*',\n",
    "        'Accept-Encoding': 'gzip, deflate, br',\n",
    "        'Accept-Language': 'en-US,en;q=0.9',\n",
    "        'x-nba-stats-origin': 'stats',\n",
    "        'x-nba-stats-token': 'true',\n",
    "    }\n",
    "    \n",
    "    player_stats = leaguedashplayerstats.LeagueDashPlayerStats(headers = my_header, season = year)\n",
    "    \n",
    "    return player_stats.league_dash_player_stats.get_data_frame()"
   ]
  },
  {
   "cell_type": "code",
   "execution_count": 11,
   "metadata": {},
   "outputs": [
    {
     "data": {
      "text/plain": [
       "['1996-97',\n",
       " '1997-98',\n",
       " '1998-99',\n",
       " '1999-00',\n",
       " '2000-01',\n",
       " '2001-02',\n",
       " '2002-03',\n",
       " '2003-04',\n",
       " '2004-05',\n",
       " '2005-06',\n",
       " '2006-07',\n",
       " '2007-08',\n",
       " '2008-09',\n",
       " '2009-10',\n",
       " '2010-11',\n",
       " '2011-12',\n",
       " '2012-13',\n",
       " '2013-14',\n",
       " '2014-15',\n",
       " '2015-16',\n",
       " '2016-17',\n",
       " '2017-18',\n",
       " '2018-19',\n",
       " '2019-20']"
      ]
     },
     "execution_count": 11,
     "metadata": {},
     "output_type": "execute_result"
    }
   ],
   "source": [
    "x = [str(xs) for xs in range(1996, 2020)]\n",
    "\n",
    "y = [str(ys) for ys in range(97, 100)]\n",
    "for i in range(0,21):\n",
    "    if i < 10:\n",
    "        y.append(str(i).zfill(2))\n",
    "    else:\n",
    "        y.append(str(i))\n",
    "        \n",
    "adv_years = []\n",
    "for i in range(len(x)):\n",
    "    string = x[i] + '-' + y[i]\n",
    "    adv_years.append(string)\n",
    "    \n",
    "adv_years"
   ]
  },
  {
   "cell_type": "code",
   "execution_count": 13,
   "metadata": {},
   "outputs": [
    {
     "name": "stdout",
     "output_type": "stream",
     "text": [
      "<class 'str'>\n",
      "1996-97\n"
     ]
    }
   ],
   "source": [
    "from time import sleep\n",
    "\n",
    "for adv_year in adv_years:\n",
    "    data_nba = craw_data_nba(adv_year)\n",
    "    data_nba.to_csv('nba_adv_stats_{}.csv'.format(adv_year[:4]), index=True)\n",
    "    # be careful with frequency. Sleep to avoid being tagged as DoS attack\n",
    "    sleep(3)\n",
    "    break"
   ]
  },
  {
   "cell_type": "code",
   "execution_count": null,
   "metadata": {},
   "outputs": [],
   "source": []
  }
 ],
 "metadata": {
  "kernelspec": {
   "display_name": "Python 3",
   "language": "python",
   "name": "python3"
  },
  "language_info": {
   "codemirror_mode": {
    "name": "ipython",
    "version": 3
   },
   "file_extension": ".py",
   "mimetype": "text/x-python",
   "name": "python",
   "nbconvert_exporter": "python",
   "pygments_lexer": "ipython3",
   "version": "3.7.6"
  }
 },
 "nbformat": 4,
 "nbformat_minor": 4
}
